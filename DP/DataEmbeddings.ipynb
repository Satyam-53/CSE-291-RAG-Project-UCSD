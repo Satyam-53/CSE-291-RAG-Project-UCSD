{
 "cells": [
  {
   "cell_type": "code",
   "execution_count": 43,
   "id": "d71e72f8-6955-4638-ab05-c40c2a6bf90d",
   "metadata": {},
   "outputs": [],
   "source": [
    "from sentence_transformers import SentenceTransformer\n",
    "import os\n",
    "import re\n",
    "import json"
   ]
  },
  {
   "cell_type": "code",
   "execution_count": 45,
   "id": "2bce0cd2-c8eb-4e48-bdd7-4a36eee881c9",
   "metadata": {},
   "outputs": [],
   "source": []
  },
  {
   "cell_type": "code",
   "execution_count": null,
   "id": "47f2e862-54b0-4799-8d2f-ce1cfcf1b8ad",
   "metadata": {},
   "outputs": [],
   "source": []
  },
  {
   "cell_type": "code",
   "execution_count": null,
   "id": "68c36034-65e6-4565-ab8a-c4cea5bf5a63",
   "metadata": {},
   "outputs": [],
   "source": []
  },
  {
   "cell_type": "code",
   "execution_count": null,
   "id": "02ca64a9-7c5f-4f5f-8f64-9bbe02a71099",
   "metadata": {},
   "outputs": [],
   "source": []
  },
  {
   "cell_type": "code",
   "execution_count": 46,
   "id": "f85ea454-1869-467e-8884-1dca2a19bcd7",
   "metadata": {},
   "outputs": [],
   "source": [
    "def main():\n",
    "    input_directory = './processed-data/'\n",
    "    chunks = process_all_processed_file(input_directory)\n",
    "\n",
    "    embeddings = create_embeddings(chunks)\n",
    "\n",
    "    persist_embeddings_to_file(chunks, embeddings)"
   ]
  },
  {
   "cell_type": "code",
   "execution_count": 49,
   "id": "3f8f5195-b6c4-4bfa-97ba-30ca94ff4f92",
   "metadata": {},
   "outputs": [
    {
     "name": "stderr",
     "output_type": "stream",
     "text": [
      "Batches: 0it [00:00, ?it/s]"
     ]
    },
    {
     "name": "stdout",
     "output_type": "stream",
     "text": [
      "Created embeddings successfully.\n",
      "Embeddings saved successfully to embeddings.json file.\n"
     ]
    },
    {
     "name": "stderr",
     "output_type": "stream",
     "text": [
      "\n"
     ]
    }
   ],
   "source": [
    "if __name__== '__main__':\n",
    "    main()"
   ]
  },
  {
   "cell_type": "code",
   "execution_count": null,
   "id": "277158d6-a65d-430d-b30c-9cd8fcc79f44",
   "metadata": {},
   "outputs": [],
   "source": []
  }
 ],
 "metadata": {
  "kernelspec": {
   "display_name": "Python 3 (ipykernel)",
   "language": "python",
   "name": "python3"
  },
  "language_info": {
   "codemirror_mode": {
    "name": "ipython",
    "version": 3
   },
   "file_extension": ".py",
   "mimetype": "text/x-python",
   "name": "python",
   "nbconvert_exporter": "python",
   "pygments_lexer": "ipython3",
   "version": "3.12.10"
  }
 },
 "nbformat": 4,
 "nbformat_minor": 5
}
