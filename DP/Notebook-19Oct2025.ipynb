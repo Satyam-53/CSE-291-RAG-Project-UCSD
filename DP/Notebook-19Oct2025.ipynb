{
 "cells": [
  {
   "cell_type": "code",
   "execution_count": 1,
   "id": "ebefc1f2-1ca3-492b-a801-9b29e828b052",
   "metadata": {},
   "outputs": [
    {
     "name": "stderr",
     "output_type": "stream",
     "text": [
      "/home/debmalya/.pyenv/versions/3.12.10/lib/python3.12/site-packages/tqdm/auto.py:21: TqdmWarning: IProgress not found. Please update jupyter and ipywidgets. See https://ipywidgets.readthedocs.io/en/stable/user_install.html\n",
      "  from .autonotebook import tqdm as notebook_tqdm\n"
     ]
    }
   ],
   "source": [
    "# import nltk\n",
    "from sentence_transformers import SentenceTransformer\n",
    "from qdrant_client import QdrantClient\n",
    "from qdrant_client.models import PointStruct, Distance, VectorParams, SearchParams\n",
    "import uuid\n",
    "import re\n",
    "import time\n",
    "import psutil\n",
    "import os\n",
    "import numpy as np"
   ]
  },
  {
   "cell_type": "code",
   "execution_count": 2,
   "id": "ccd0df4b-1fcb-48ce-83d6-2774896171d9",
   "metadata": {},
   "outputs": [],
   "source": [
    "# Download NLTK sentence tokenizer\n",
    "# nltk.download('punkt', quiet=True)"
   ]
  },
  {
   "cell_type": "code",
   "execution_count": 3,
   "id": "0381a5fd-882c-4606-aac0-66bdc710fb9c",
   "metadata": {},
   "outputs": [],
   "source": [
    "# import nltk\n",
    "# nltk.data.path.append('/home/debmalya/nltk_data')"
   ]
  },
  {
   "cell_type": "code",
   "execution_count": 4,
   "id": "c127f0df-6c11-4760-9854-b1441c34dd39",
   "metadata": {},
   "outputs": [],
   "source": [
    "# Initialize embedding model\n",
    "model = SentenceTransformer('all-MiniLM-L6-v2')"
   ]
  },
  {
   "cell_type": "code",
   "execution_count": 5,
   "id": "6f0f87df-4186-4729-b4ea-225a922b269e",
   "metadata": {},
   "outputs": [
    {
     "name": "stderr",
     "output_type": "stream",
     "text": [
      "/tmp/ipykernel_131195/3285278501.py:7: DeprecationWarning: `recreate_collection` method is deprecated and will be removed in the future. Use `collection_exists` to check collection existence and `create_collection` instead.\n",
      "  client.recreate_collection(\n"
     ]
    },
    {
     "data": {
      "text/plain": [
       "True"
      ]
     },
     "execution_count": 5,
     "metadata": {},
     "output_type": "execute_result"
    }
   ],
   "source": [
    "# Initialize Qdrant client (local or cloud - we chose local for now using docker - if issue, check port mapping)\n",
    "client = QdrantClient(host=\"localhost\", port=6333)\n",
    "\n",
    "collection_name = \"CSE291A-RAG-Project-Trial\"\n",
    "\n",
    "# Create collection\n",
    "client.recreate_collection(\n",
    "    collection_name=collection_name,\n",
    "    vectors_config=VectorParams(size=384, distance=Distance.COSINE)\n",
    ")"
   ]
  },
  {
   "cell_type": "code",
   "execution_count": 6,
   "id": "616abf58-c04f-48bc-a245-3c478baeb737",
   "metadata": {},
   "outputs": [],
   "source": [
    "# Step 1: Chunk text into sentences\n",
    "def chunk_text(text):\n",
    "    # Split on punctuation followed by space\n",
    "    sentences = list(map(str.strip, re.split(r'(?<=[.!?]) +', text.strip())))\n",
    "    print(sentences)\n",
    "    return [s for s in sentences if s]"
   ]
  },
  {
   "cell_type": "code",
   "execution_count": 7,
   "id": "8dce50cc-06bb-4937-922d-3538d32624bc",
   "metadata": {},
   "outputs": [],
   "source": [
    "# Step 2: Embed and store chunks in Qdrant\n",
    "def store_chunks(text):\n",
    "    chunks = chunk_text(text)\n",
    "    embeddings = model.encode(chunks)\n",
    "\n",
    "    points = [\n",
    "        PointStruct(\n",
    "            id=str(uuid.uuid4()), \n",
    "            vector=embedding.tolist(), \n",
    "            payload={\"text\": chunk} # add other metadata that we might need to store (recency, etc..)\n",
    "        ) for chunk, embedding in zip(chunks, embeddings)        \n",
    "    ]\n",
    "    \n",
    "    client.upsert(collection_name=collection_name, points=points)\n",
    "    print(f\"Stored {len(points)} chunks in Qdrant vector store.\")"
   ]
  },
  {
   "cell_type": "code",
   "execution_count": 8,
   "id": "93e85435-c69c-4770-83d1-02caa8e5e6ab",
   "metadata": {},
   "outputs": [],
   "source": [
    "# Step 3: Query Qdrant with semantic search\n",
    "def search_chunks(query, top_k=5):\n",
    "    query_vector = model.encode(query).tolist()\n",
    "    results = client.search(\n",
    "        collection_name=collection_name,\n",
    "        query_vector=query_vector,\n",
    "        limit=top_k,\n",
    "        search_params=SearchParams(hnsw_ef=128)\n",
    "    )\n",
    "    return [hit.payload[\"text\"] for hit in results]"
   ]
  },
  {
   "cell_type": "code",
   "execution_count": null,
   "id": "7bb01873-6b4f-4295-b548-2223b1688098",
   "metadata": {},
   "outputs": [],
   "source": []
  },
  {
   "cell_type": "code",
   "execution_count": 9,
   "id": "f8e8ccce-bf74-45a8-af8b-786edb704aa2",
   "metadata": {},
   "outputs": [
    {
     "name": "stdout",
     "output_type": "stream",
     "text": [
      "['Retrieval-Augmented Generation (RAG) is a powerful technique that combines external knowledge retrieval with language generation.', 'It allows models to access relevant information beyond their training data.', 'This improves factual accuracy.', 'Retrieval-Augmented Generation (RAG) is a powerful technique that combines external knowledge retrieval with graphics generation.', 'It allows models to access relevant information beyond their testing data.', 'This reduces hallucination.']\n",
      "Stored 6 chunks in Qdrant vector store.\n"
     ]
    }
   ],
   "source": [
    "text = \"\"\"\n",
    "    Retrieval-Augmented Generation (RAG) is a powerful technique that combines external knowledge retrieval with language generation. It allows models to access relevant information beyond their training data. This improves factual accuracy. \n",
    "    Retrieval-Augmented Generation (RAG) is a powerful technique that combines external knowledge retrieval with graphics generation. It allows models to access relevant information beyond their testing data. This reduces hallucination.\n",
    "\"\"\".strip()\n",
    "\n",
    "store_chunks(text)"
   ]
  },
  {
   "cell_type": "code",
   "execution_count": 10,
   "id": "30509b58-34e7-4978-bdf4-5d5d21fab128",
   "metadata": {},
   "outputs": [
    {
     "name": "stdout",
     "output_type": "stream",
     "text": [
      "Relevant Chunks:\n",
      "1. This improves factual accuracy.\n",
      "2. Retrieval-Augmented Generation (RAG) is a powerful technique that combines external knowledge retrieval with graphics generation.\n",
      "3. Retrieval-Augmented Generation (RAG) is a powerful technique that combines external knowledge retrieval with language generation.\n",
      "4. This reduces hallucination.\n",
      "5. It allows models to access relevant information beyond their testing data.\n"
     ]
    },
    {
     "name": "stderr",
     "output_type": "stream",
     "text": [
      "/tmp/ipykernel_131195/176272022.py:4: DeprecationWarning: `search` method is deprecated and will be removed in the future. Use `query_points` instead.\n",
      "  results = client.search(\n"
     ]
    }
   ],
   "source": [
    "query = \"How does RAG improve accuracy?\"\n",
    "results = search_chunks(query, 5)\n",
    "\n",
    "print(\"Relevant Chunks:\")\n",
    "for i, res in enumerate(results, 1):\n",
    "    print(f\"{i}. {res}\")"
   ]
  },
  {
   "cell_type": "code",
   "execution_count": null,
   "id": "d9cdc90a-5510-469c-a480-4558d06498b1",
   "metadata": {},
   "outputs": [],
   "source": []
  },
  {
   "cell_type": "code",
   "execution_count": 15,
   "id": "8237676b-1c46-43bb-9591-70968e0293fe",
   "metadata": {},
   "outputs": [],
   "source": [
    "def get_retrieval_metrics(expected_chunks, retrieved_chunks, k=5):\n",
    "    \"\"\"\n",
    "    expected_chunks: list of relevant chunk texts (ground truth)\n",
    "    retrieved_chunks: list of retrieved chunk texts (top-k)\n",
    "    k: number of retrieved chunks to evaluate\n",
    "\n",
    "    Returns: dict of retrieval metrics\n",
    "    \"\"\"\n",
    "    expected_set = set(expected_chunks)\n",
    "    retrieved_set = set(retrieved_chunks[:k])\n",
    "\n",
    "    # Precision@k\n",
    "    precision_at_k = len(expected_set & retrieved_set) / k\n",
    "\n",
    "    # Recall@k\n",
    "    recall_at_k = len(expected_set & retrieved_set) / len(expected_set) if expected_set else 0\n",
    "\n",
    "    # Hit Ratio@k\n",
    "    hit_ratio = 1 if expected_set & retrieved_set else 0\n",
    "\n",
    "    # MRR (Mean Reciprocal Rank)\n",
    "    ranks = [i + 1 for i, chunk in enumerate(retrieved_chunks[:k]) if chunk in expected_set]\n",
    "    mrr = 1 / ranks[0] if ranks else 0\n",
    "\n",
    "    # DCG and nDCG\n",
    "    relevance_scores = [1 if chunk in expected_set else 0 for chunk in retrieved_chunks[:k]]\n",
    "    dcg = sum([score / np.log2(i + 2) for i, score in enumerate(relevance_scores)])\n",
    "    ideal_scores = sorted(relevance_scores, reverse=True)\n",
    "    idcg = sum([score / np.log2(i + 2) for i, score in enumerate(ideal_scores)])\n",
    "    ndcg = dcg / idcg if idcg > 0 else 0\n",
    "\n",
    "    return {\n",
    "        \"precision@k\": round(precision_at_k, 3),\n",
    "        \"recall@k\": round(recall_at_k, 3),\n",
    "        \"hit_ratio@k\": hit_ratio,\n",
    "        \"mrr\": round(mrr, 3),\n",
    "        \"ndcg\": round(ndcg, 3)\n",
    "    }"
   ]
  },
  {
   "cell_type": "code",
   "execution_count": 16,
   "id": "c04d9c97-47f2-46f7-805e-20fcdf8f4893",
   "metadata": {},
   "outputs": [],
   "source": [
    "def retrieve_and_find_metrics(query_input, expected_chunks):\n",
    "    \"\"\"\n",
    "    query_function: function that performs retrieval and returns retrieved_chunks\n",
    "    query_input: input to pass to the query_function\n",
    "    expected_chunks: ground truth relevant chunks\n",
    "\n",
    "    Returns: dict of efficiency and retrieval metrics\n",
    "    \"\"\"\n",
    "    \n",
    "    # Start timing\n",
    "    start_time = time.time()\n",
    "\n",
    "    # Measure memory before\n",
    "    process = psutil.Process(os.getpid())\n",
    "    mem_before = process.memory_info().rss / 1024 ** 2  # MB\n",
    "\n",
    "    # Run retrieval\n",
    "    number_of_chunks_to_retrieve = len(expected_chunks)\n",
    "    retrieved_chunks = search_chunks(query_input, number_of_chunks_to_retrieve)\n",
    "    print(retrieved_chunks)\n",
    "\n",
    "    # Measure memory after\n",
    "    mem_after = process.memory_info().rss / 1024 ** 2  # MB\n",
    "    end_time = time.time()\n",
    "\n",
    "    # Efficiency metrics\n",
    "    latency = end_time - start_time\n",
    "    throughput = 1 / latency if latency > 0 else 0\n",
    "    memory_used = mem_after - mem_before\n",
    "\n",
    "    # Retrieval quality\n",
    "    retrieval_metrics = get_retrieval_metrics(expected_chunks, retrieved_chunks)\n",
    "\n",
    "    print(\"----------- RETRIEVAL METRICS -----------\")\n",
    "    print(\"Precision @ K  : \", retrieval_metrics[\"precision@k\"])\n",
    "    print(\"Recall @ K     : \", retrieval_metrics[\"recall@k\"])\n",
    "    print(\"Hit Ratio @ K  : \", retrieval_metrics[\"hit_ratio@k\"])\n",
    "    print(\"MRR            : \", retrieval_metrics[\"mrr\"])\n",
    "    print(\"NDCG           : \", retrieval_metrics[\"ndcg\"])\n",
    "\n",
    "    print(\"----------- EFFICIENCY METRICS -----------\")\n",
    "    print(\"Latency (sec)  : \", latency)\n",
    "    print(\"Throughput(qps): \", throughput)\n",
    "    print(\"Memory Used(MB): \", memory_used)"
   ]
  },
  {
   "cell_type": "code",
   "execution_count": 17,
   "id": "26ff8ad6-4196-4d08-8723-9f5241266ec7",
   "metadata": {},
   "outputs": [
    {
     "name": "stdout",
     "output_type": "stream",
     "text": [
      "['This improves factual accuracy.', 'Retrieval-Augmented Generation (RAG) is a powerful technique that combines external knowledge retrieval with graphics generation.']\n",
      "----------- RETRIEVAL METRICS -----------\n",
      "Precision @ K  :  0.2\n",
      "Recall @ K     :  0.5\n",
      "Hit Ratio @ K  :  1\n",
      "MRR            :  1.0\n",
      "NDCG           :  1.0\n",
      "----------- EFFICIENCY METRICS -----------\n",
      "Latency (sec)  :  0.1112675666809082\n",
      "Throughput(qps):  8.987344918468363\n",
      "Memory Used(MB):  0.0\n"
     ]
    },
    {
     "name": "stderr",
     "output_type": "stream",
     "text": [
      "/tmp/ipykernel_131195/176272022.py:4: DeprecationWarning: `search` method is deprecated and will be removed in the future. Use `query_points` instead.\n",
      "  results = client.search(\n"
     ]
    }
   ],
   "source": [
    "query = \"How does RAG improve accuracy?\"\n",
    "expected_chunks = [\"This improves factual accuracy.\", \"This reduces hallucination.\"]\n",
    "\n",
    "retrieve_and_find_metrics(query, expected_chunks)"
   ]
  },
  {
   "cell_type": "code",
   "execution_count": null,
   "id": "4ccde3bf-b5ac-4eff-b758-db6ac5a4485f",
   "metadata": {},
   "outputs": [],
   "source": []
  }
 ],
 "metadata": {
  "kernelspec": {
   "display_name": "Python 3 (ipykernel)",
   "language": "python",
   "name": "python3"
  },
  "language_info": {
   "codemirror_mode": {
    "name": "ipython",
    "version": 3
   },
   "file_extension": ".py",
   "mimetype": "text/x-python",
   "name": "python",
   "nbconvert_exporter": "python",
   "pygments_lexer": "ipython3",
   "version": "3.12.10"
  }
 },
 "nbformat": 4,
 "nbformat_minor": 5
}
