{
 "cells": [
  {
   "cell_type": "code",
   "execution_count": 10,
   "id": "f5ddf433",
   "metadata": {},
   "outputs": [],
   "source": [
    "from qdrant_client import QdrantClient\n",
    "from qdrant_client.models import VectorParams, PointStruct\n",
    "from sentence_transformers import SentenceTransformer\n",
    "\n",
    "# Connect to local Qdrant container\n",
    "client = QdrantClient(host=\"localhost\", port=6333)\n"
   ]
  },
  {
   "cell_type": "markdown",
   "id": "0604243c",
   "metadata": {},
   "source": [
    "Prepare the dataset."
   ]
  },
  {
   "cell_type": "code",
   "execution_count": 1,
   "id": "d6ebeab9",
   "metadata": {},
   "outputs": [],
   "source": [
    "# Add parent directory to sys.path\n",
    "import sys\n",
    "import os\n",
    "import re\n",
    "import importlib\n",
    "import pdfminer\n",
    "from pdfminer.high_level import extract_text\n",
    "from tqdm import tqdm\n",
    "\n",
    "# Get relevant directory paths\n",
    "parent_dir = os.path.abspath(os.path.join(os.getcwd(), '..'))\n",
    "notebook_dir = os.getcwd()\n",
    "dataset_dir = os.path.join(parent_dir, \"dataset\")\n",
    "\n",
    "sys.path.append(parent_dir)"
   ]
  },
  {
   "cell_type": "code",
   "execution_count": 2,
   "id": "e78b13cb",
   "metadata": {},
   "outputs": [],
   "source": [
    "# Code to extract the dataset\n",
    "def read_pdf(filepath): # takes in the absolute filepath\n",
    "    text = extract_text(filepath)\n",
    "    return text"
   ]
  },
  {
   "cell_type": "code",
   "execution_count": 3,
   "id": "2b30a537",
   "metadata": {},
   "outputs": [],
   "source": [
    "# Code to clean the dataset\n",
    "def clean_text(text):\n",
    "    # Remove bracketed citations like [1], [12], etc.\n",
    "    text = re.sub(r'\\[\\d+\\]', '', text)\n",
    "    \n",
    "    # Remove parenthetical citations like (Smith et al., 2020)\n",
    "    text = re.sub(r'\\([^\\)]+et al\\.,?\\s*\\d{4}\\)', '', text)\n",
    "    \n",
    "    # Remove section numbers at start of lines like \"1.\", \"2.1\", \"3.2.1\", etc.\n",
    "    text = re.sub(r'^\\d+(\\.\\d+)*\\s+', '', text, flags=re.MULTILINE)\n",
    "    \n",
    "    # Remove all-caps headings or lines that are just numbers\n",
    "    text = re.sub(r'^[A-Z\\s]{3,}$', '', text, flags=re.MULTILINE)\n",
    "    \n",
    "    # --- Remove table-like lines ---\n",
    "    # Heuristic: lines with lots of whitespace-separated \"columns\" or digits\n",
    "    lines = text.split(\"\\n\")\n",
    "    cleaned_lines = []\n",
    "    for line in lines:\n",
    "        # Count words separated by 2+ spaces or tabs\n",
    "        if len(re.findall(r'  +|\\t', line)) >= 2:\n",
    "            continue  # likely a table row → skip\n",
    "        # Skip lines with many pipe characters (markdown-style tables)\n",
    "        if line.count(\"|\") >= 2:\n",
    "            continue\n",
    "        cleaned_lines.append(line)\n",
    "    \n",
    "    text = \"\\n\".join(cleaned_lines)\n",
    "    \n",
    "    # Optional: collapse multiple spaces/newlines\n",
    "    text = re.sub(r'\\n\\s*\\n', '\\n\\n', text)\n",
    "    text = re.sub(r'[ \\t]+', ' ', text)\n",
    "    \n",
    "    return text.strip()"
   ]
  },
  {
   "cell_type": "code",
   "execution_count": 4,
   "id": "c5fafb48",
   "metadata": {},
   "outputs": [],
   "source": [
    "def save_cleaned_text(text, output_dir, filename):\n",
    "    # Ensure the output directory exists\n",
    "    os.makedirs(output_dir, exist_ok=True)\n",
    "\n",
    "    # Create the full output path\n",
    "    output_path = os.path.join(output_dir, f\"{filename}.txt\")\n",
    "\n",
    "    # Save text to the file (UTF-8 handles special characters)\n",
    "    with open(output_path, \"w\", encoding=\"utf-8\") as f:\n",
    "        f.write(text)\n",
    "\n",
    "    # print(f\"✅ Saved cleaned text to: {output_path}\")"
   ]
  },
  {
   "cell_type": "code",
   "execution_count": 5,
   "id": "fba4a41d",
   "metadata": {},
   "outputs": [],
   "source": [
    "dataset_dir = os.path.join(dataset_dir, \"TP53_effects_breast_cancer\")"
   ]
  },
  {
   "cell_type": "code",
   "execution_count": 6,
   "id": "b0987610",
   "metadata": {},
   "outputs": [
    {
     "name": "stderr",
     "output_type": "stream",
     "text": [
      "Processing PDFs:   0%|          | 0/13 [00:00<?, ?file/s]"
     ]
    },
    {
     "name": "stderr",
     "output_type": "stream",
     "text": [
      "Processing PDFs: 100%|██████████| 13/13 [01:09<00:00,  5.33s/file]\n"
     ]
    }
   ],
   "source": [
    "def process_pdfs(input_dir, output_dir):\n",
    "    pdf_files = [f for f in os.listdir(input_dir) if f.endswith(\".pdf\")]\n",
    "\n",
    "    for file in tqdm(pdf_files, desc=\"Processing PDFs\", unit=\"file\"):\n",
    "        pdf_path = os.path.join(input_dir, file)\n",
    "        raw_text = read_pdf(pdf_path)\n",
    "        # cleaned_text = clean_text(raw_text)\n",
    "\n",
    "        filename = os.path.splitext(file)[0]\n",
    "        save_cleaned_text(raw_text, output_dir, filename)\n",
    "\n",
    "processed_dataset_dir = os.path.join(parent_dir, \"processed_dataset\")\n",
    "process_pdfs(dataset_dir, processed_dataset_dir)"
   ]
  },
  {
   "cell_type": "code",
   "execution_count": 78,
   "id": "a3a9d766",
   "metadata": {},
   "outputs": [
    {
     "name": "stderr",
     "output_type": "stream",
     "text": [
      "/tmp/ipykernel_22153/3140654592.py:3: DeprecationWarning: `recreate_collection` method is deprecated and will be removed in the future. Use `collection_exists` to check collection existence and `create_collection` instead.\n",
      "  client.recreate_collection(\n"
     ]
    }
   ],
   "source": [
    "# Create collection\n",
    "collection_name = \"demo_collection\"\n",
    "client.recreate_collection(\n",
    "    collection_name=collection_name,\n",
    "    vectors_config=VectorParams(size=384, distance=\"Cosine\")\n",
    ")\n",
    "\n",
    "# Load model\n",
    "model = SentenceTransformer(\"sentence-transformers/all-MiniLM-L6-v2\")"
   ]
  },
  {
   "cell_type": "code",
   "execution_count": 3,
   "id": "508cbd5d",
   "metadata": {},
   "outputs": [],
   "source": [
    "# Sample data\n",
    "texts = [\n",
    "    \"Machine learning enables computers to learn from data.\",\n",
    "    \"Vector databases store high-dimensional embeddings efficiently.\",\n",
    "    \"Qdrant makes it easy to perform semantic search.\"\n",
    "]\n",
    "\n",
    "# Generate embeddings\n",
    "embeddings = model.encode(texts)"
   ]
  },
  {
   "cell_type": "code",
   "execution_count": 4,
   "id": "90c84aed",
   "metadata": {},
   "outputs": [
    {
     "data": {
      "text/plain": [
       "UpdateResult(operation_id=0, status=<UpdateStatus.COMPLETED: 'completed'>)"
      ]
     },
     "execution_count": 4,
     "metadata": {},
     "output_type": "execute_result"
    }
   ],
   "source": [
    "# Insert points\n",
    "points = [\n",
    "    PointStruct(id=i, vector=embeddings[i].tolist(), payload={\"text\": texts[i]})\n",
    "    for i in range(len(texts))\n",
    "]\n",
    "client.upsert(collection_name=collection_name, points=points)"
   ]
  },
  {
   "cell_type": "code",
   "execution_count": 5,
   "id": "34bde3b9",
   "metadata": {},
   "outputs": [
    {
     "name": "stdout",
     "output_type": "stream",
     "text": [
      "{'text': 'Machine learning enables computers to learn from data.'}\n",
      "{'text': 'Vector databases store high-dimensional embeddings efficiently.'}\n",
      "{'text': 'Qdrant makes it easy to perform semantic search.'}\n"
     ]
    }
   ],
   "source": [
    "# Verify\n",
    "result = client.scroll(collection_name=collection_name, limit=3)\n",
    "for point in result[0]:\n",
    "    print(point.payload)"
   ]
  },
  {
   "cell_type": "code",
   "execution_count": null,
   "id": "412f000c",
   "metadata": {},
   "outputs": [],
   "source": []
  }
 ],
 "metadata": {
  "kernelspec": {
   "display_name": "rag_dev",
   "language": "python",
   "name": "python3"
  },
  "language_info": {
   "codemirror_mode": {
    "name": "ipython",
    "version": 3
   },
   "file_extension": ".py",
   "mimetype": "text/x-python",
   "name": "python",
   "nbconvert_exporter": "python",
   "pygments_lexer": "ipython3",
   "version": "3.10.19"
  }
 },
 "nbformat": 4,
 "nbformat_minor": 5
}
