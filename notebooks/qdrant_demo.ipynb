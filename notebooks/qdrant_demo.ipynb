{
 "cells": [
  {
   "cell_type": "markdown",
   "id": "0604243c",
   "metadata": {},
   "source": [
    "Prepare the dataset."
   ]
  },
  {
   "cell_type": "code",
   "execution_count": 69,
   "id": "d6ebeab9",
   "metadata": {},
   "outputs": [],
   "source": [
    "# Add parent directory to sys.path\n",
    "import sys\n",
    "import os\n",
    "import re\n",
    "import importlib\n",
    "import pdfminer\n",
    "from pdfminer.high_level import extract_text\n",
    "from tqdm import tqdm\n",
    "\n",
    "# Get relevant directory paths\n",
    "parent_dir = os.path.abspath(os.path.join(os.getcwd(), '..'))\n",
    "notebook_dir = os.getcwd()\n",
    "dataset_dir = os.path.join(parent_dir, \"dataset\")\n",
    "\n",
    "sys.path.append(parent_dir)"
   ]
  },
  {
   "cell_type": "code",
   "execution_count": 70,
   "id": "e78b13cb",
   "metadata": {},
   "outputs": [],
   "source": [
    "# Code to extract the dataset\n",
    "def read_pdf(filepath): # takes in the absolute filepath\n",
    "    text = extract_text(filepath)\n",
    "    return text"
   ]
  },
  {
   "cell_type": "code",
   "execution_count": 71,
   "id": "2b30a537",
   "metadata": {},
   "outputs": [],
   "source": [
    "# Code to clean the dataset\n",
    "def clean_text(text):\n",
    "    # Remove bracketed citations like [1], [12], etc.\n",
    "    text = re.sub(r'\\[\\d+\\]', '', text)\n",
    "    \n",
    "    # Remove parenthetical citations like (Smith et al., 2020)\n",
    "    text = re.sub(r'\\([^\\)]+et al\\.,?\\s*\\d{4}\\)', '', text)\n",
    "    \n",
    "    # Remove section numbers at start of lines like \"1.\", \"2.1\", \"3.2.1\", etc.\n",
    "    text = re.sub(r'^\\d+(\\.\\d+)*\\s+', '', text, flags=re.MULTILINE)\n",
    "    \n",
    "    # Remove all-caps headings or lines that are just numbers\n",
    "    text = re.sub(r'^[A-Z\\s]{3,}$', '', text, flags=re.MULTILINE)\n",
    "    \n",
    "    # --- Remove table-like lines ---\n",
    "    # Heuristic: lines with lots of whitespace-separated \"columns\" or digits\n",
    "    lines = text.split(\"\\n\")\n",
    "    cleaned_lines = []\n",
    "    for line in lines:\n",
    "        # Count words separated by 2+ spaces or tabs\n",
    "        if len(re.findall(r'  +|\\t', line)) >= 2:\n",
    "            continue  # likely a table row → skip\n",
    "        # Skip lines with many pipe characters (markdown-style tables)\n",
    "        if line.count(\"|\") >= 2:\n",
    "            continue\n",
    "        cleaned_lines.append(line)\n",
    "    \n",
    "    text = \"\\n\".join(cleaned_lines)\n",
    "    \n",
    "    # Optional: collapse multiple spaces/newlines\n",
    "    text = re.sub(r'\\n\\s*\\n', '\\n\\n', text)\n",
    "    text = re.sub(r'[ \\t]+', ' ', text)\n",
    "    \n",
    "    return text.strip()"
   ]
  },
  {
   "cell_type": "code",
   "execution_count": 72,
   "id": "c5fafb48",
   "metadata": {},
   "outputs": [],
   "source": [
    "def save_cleaned_text(text, output_dir, filename):\n",
    "    # Ensure the output directory exists\n",
    "    os.makedirs(output_dir, exist_ok=True)\n",
    "\n",
    "    # Create the full output path\n",
    "    output_path = os.path.join(output_dir, f\"{filename}.txt\")\n",
    "\n",
    "    # Save text to the file (UTF-8 handles special characters)\n",
    "    with open(output_path, \"w\", encoding=\"utf-8\") as f:\n",
    "        f.write(text)\n",
    "\n",
    "    # print(f\"✅ Saved cleaned text to: {output_path}\")"
   ]
  },
  {
   "cell_type": "code",
   "execution_count": 73,
   "id": "b0987610",
   "metadata": {},
   "outputs": [],
   "source": [
    "def process_pdfs(input_dir, output_dir):\n",
    "    pdf_files = [f for f in os.listdir(input_dir) if f.endswith(\".pdf\")]\n",
    "\n",
    "    for file in tqdm(pdf_files, desc=\"Processing PDFs\", unit=\"file\"):\n",
    "        pdf_path = os.path.join(input_dir, file)\n",
    "        raw_text = read_pdf(pdf_path)\n",
    "        # cleaned_text = clean_text(raw_text)\n",
    "\n",
    "        filename = os.path.splitext(file)[0]\n",
    "        save_cleaned_text(raw_text, output_dir, filename)"
   ]
  },
  {
   "cell_type": "code",
   "execution_count": 74,
   "id": "0d4938cd",
   "metadata": {},
   "outputs": [],
   "source": [
    "def process_tabular_files(input_dir, output_dir):\n",
    "    # Collect all .csv and .tsv files\n",
    "    tabular_files = [f for f in os.listdir(input_dir) if f.endswith((\".csv\", \".tsv\"))]\n",
    "\n",
    "    os.makedirs(output_dir, exist_ok=True)\n",
    "\n",
    "    for file in tqdm(tabular_files, desc=\"Processing CSV/TSV files\", unit=\"file\"):\n",
    "        input_path = os.path.join(input_dir, file)\n",
    "        # output_path = os.path.join(output_dir, os.path.splitext(file)[0] + \".txt\")\n",
    "\n",
    "        # Read the file contents\n",
    "        with open(input_path, \"r\", encoding=\"utf-8\") as infile:\n",
    "            content = infile.read()\n",
    "\n",
    "        # Replace only the correct delimiter\n",
    "        if file.endswith(\".csv\"):\n",
    "            cleaned_content = content.replace(\",\", \"|\")\n",
    "        elif file.endswith(\".tsv\"):\n",
    "            cleaned_content = content.replace(\"\\t\", \"|\")\n",
    "        else:\n",
    "            continue  # safety check\n",
    "        \n",
    "        filename = os.path.splitext(file)[0]\n",
    "        save_cleaned_text(cleaned_content, output_dir, filename)\n",
    "\n",
    "        # # Save the cleaned version\n",
    "        # with open(output_path, \"w\", encoding=\"utf-8\") as outfile:\n",
    "        #     outfile.write(cleaned_content)"
   ]
  },
  {
   "cell_type": "code",
   "execution_count": 75,
   "id": "f80598bb",
   "metadata": {},
   "outputs": [],
   "source": [
    "import shutil\n",
    "\n",
    "def process_text_files(input_dir, output_dir):\n",
    "    os.makedirs(input_dir, exist_ok=True)\n",
    "    \n",
    "    text_files = [f for f in os.listdir(input_dir) if f.endswith(\".txt\")]\n",
    "    for file in text_files:\n",
    "        dst_path = os.path.join(output_dir, file)\n",
    "        src_path = os.path.join(input_dir, file)\n",
    "        \n",
    "        shutil.copy2(src_path, dst_path)"
   ]
  },
  {
   "cell_type": "code",
   "execution_count": 76,
   "id": "62f1b4ca",
   "metadata": {},
   "outputs": [],
   "source": [
    "# Function to copy all the data from the dataset folder to raw_dataset folder\n",
    "import shutil\n",
    "\n",
    "def copy_dataset(dataset_dir, raw_dataset_dir):\n",
    "    os.makedirs(raw_dataset_dir, exist_ok=True)\n",
    "    for root, dirs, files in tqdm(os.walk(dataset_dir), desc=\"Copying files\", unit=\"file\"):\n",
    "        for file in files:\n",
    "            dst_path = os.path.join(raw_dataset_dir, file)\n",
    "            src_path = os.path.join(root, file)\n",
    "            \n",
    "            shutil.copy2(src_path, dst_path)\n",
    "            "
   ]
  },
  {
   "cell_type": "code",
   "execution_count": 78,
   "id": "9d561d8a",
   "metadata": {},
   "outputs": [
    {
     "name": "stderr",
     "output_type": "stream",
     "text": [
      "Copying files: 8file [00:00, 24.74file/s]\n",
      "Processing PDFs: 100%|██████████| 79/79 [07:33<00:00,  5.74s/file]\n",
      "Processing CSV/TSV files: 100%|██████████| 14/14 [00:00<00:00, 154.86file/s]\n"
     ]
    }
   ],
   "source": [
    "#Processing Cell\n",
    "raw_dataset_dir = os.path.join(parent_dir, \"raw_dataset\")\n",
    "copy_dataset(dataset_dir, raw_dataset_dir)\n",
    "processed_dataset_dir = os.path.join(parent_dir, \"processed_dataset\")\n",
    "process_pdfs(raw_dataset_dir, processed_dataset_dir)\n",
    "process_tabular_files(raw_dataset_dir, processed_dataset_dir)\n",
    "process_text_files(raw_dataset_dir, processed_dataset_dir)"
   ]
  },
  {
   "cell_type": "code",
   "execution_count": null,
   "id": "c7db921c",
   "metadata": {},
   "outputs": [],
   "source": []
  }
 ],
 "metadata": {
  "kernelspec": {
   "display_name": "rag_dev",
   "language": "python",
   "name": "python3"
  },
  "language_info": {
   "codemirror_mode": {
    "name": "ipython",
    "version": 3
   },
   "file_extension": ".py",
   "mimetype": "text/x-python",
   "name": "python",
   "nbconvert_exporter": "python",
   "pygments_lexer": "ipython3",
   "version": "3.10.19"
  }
 },
 "nbformat": 4,
 "nbformat_minor": 5
}
