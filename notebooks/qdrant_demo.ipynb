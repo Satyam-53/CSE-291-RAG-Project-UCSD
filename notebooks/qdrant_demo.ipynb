{
 "cells": [
  {
   "cell_type": "code",
   "execution_count": null,
   "id": "f5ddf433",
   "metadata": {
    "vscode": {
     "languageId": "plaintext"
    }
   },
   "outputs": [],
   "source": [
    "from qdrant_client import QdrantClient\n",
    "from qdrant_client.models import VectorParams, PointStruct\n",
    "from sentence_transformers import SentenceTransformer\n",
    "\n",
    "# Connect to local Qdrant container\n",
    "client = QdrantClient(host=\"localhost\", port=6333)\n",
    "\n",
    "# Create collection\n",
    "collection_name = \"demo_collection\"\n",
    "client.recreate_collection(\n",
    "    collection_name=collection_name,\n",
    "    vectors_config=VectorParams(size=384, distance=\"Cosine\")\n",
    ")\n",
    "\n",
    "# Load model\n",
    "model = SentenceTransformer(\"sentence-transformers/all-MiniLM-L6-v2\")\n",
    "\n",
    "# Sample data\n",
    "texts = [\n",
    "    \"Machine learning enables computers to learn from data.\",\n",
    "    \"Vector databases store high-dimensional embeddings efficiently.\",\n",
    "    \"Qdrant makes it easy to perform semantic search.\"\n",
    "]\n",
    "\n",
    "# Generate embeddings\n",
    "embeddings = model.encode(texts)\n",
    "\n",
    "# Insert points\n",
    "points = [\n",
    "    PointStruct(id=i, vector=embeddings[i].tolist(), payload={\"text\": texts[i]})\n",
    "    for i in range(len(texts))\n",
    "]\n",
    "client.upsert(collection_name=collection_name, points=points)\n",
    "\n",
    "# Verify\n",
    "result = client.scroll(collection_name=collection_name, limit=3)\n",
    "for point in result[0]:\n",
    "    print(point.payload)\n"
   ]
  }
 ],
 "metadata": {
  "language_info": {
   "name": "python"
  }
 },
 "nbformat": 4,
 "nbformat_minor": 5
}
