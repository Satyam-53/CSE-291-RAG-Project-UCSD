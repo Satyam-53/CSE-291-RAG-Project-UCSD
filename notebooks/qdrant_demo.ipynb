{
 "cells": [
  {
   "cell_type": "code",
   "execution_count": 1,
   "id": "f5ddf433",
   "metadata": {},
   "outputs": [
    {
     "name": "stderr",
     "output_type": "stream",
     "text": [
      "/home/non-sudo/miniconda3/envs/rag_dev/lib/python3.10/site-packages/tqdm/auto.py:21: TqdmWarning: IProgress not found. Please update jupyter and ipywidgets. See https://ipywidgets.readthedocs.io/en/stable/user_install.html\n",
      "  from .autonotebook import tqdm as notebook_tqdm\n"
     ]
    }
   ],
   "source": [
    "from qdrant_client import QdrantClient\n",
    "from qdrant_client.models import VectorParams, PointStruct\n",
    "from sentence_transformers import SentenceTransformer\n",
    "\n",
    "# Connect to local Qdrant container\n",
    "client = QdrantClient(host=\"localhost\", port=6333)\n"
   ]
  },
  {
   "cell_type": "code",
   "execution_count": 2,
   "id": "a3a9d766",
   "metadata": {},
   "outputs": [
    {
     "name": "stderr",
     "output_type": "stream",
     "text": [
      "/tmp/ipykernel_22153/3140654592.py:3: DeprecationWarning: `recreate_collection` method is deprecated and will be removed in the future. Use `collection_exists` to check collection existence and `create_collection` instead.\n",
      "  client.recreate_collection(\n"
     ]
    }
   ],
   "source": [
    "# Create collection\n",
    "collection_name = \"demo_collection\"\n",
    "client.recreate_collection(\n",
    "    collection_name=collection_name,\n",
    "    vectors_config=VectorParams(size=384, distance=\"Cosine\")\n",
    ")\n",
    "\n",
    "# Load model\n",
    "model = SentenceTransformer(\"sentence-transformers/all-MiniLM-L6-v2\")"
   ]
  },
  {
   "cell_type": "code",
   "execution_count": 3,
   "id": "508cbd5d",
   "metadata": {},
   "outputs": [],
   "source": [
    "# Sample data\n",
    "texts = [\n",
    "    \"Machine learning enables computers to learn from data.\",\n",
    "    \"Vector databases store high-dimensional embeddings efficiently.\",\n",
    "    \"Qdrant makes it easy to perform semantic search.\"\n",
    "]\n",
    "\n",
    "# Generate embeddings\n",
    "embeddings = model.encode(texts)"
   ]
  },
  {
   "cell_type": "code",
   "execution_count": 4,
   "id": "90c84aed",
   "metadata": {},
   "outputs": [
    {
     "data": {
      "text/plain": [
       "UpdateResult(operation_id=0, status=<UpdateStatus.COMPLETED: 'completed'>)"
      ]
     },
     "execution_count": 4,
     "metadata": {},
     "output_type": "execute_result"
    }
   ],
   "source": [
    "# Insert points\n",
    "points = [\n",
    "    PointStruct(id=i, vector=embeddings[i].tolist(), payload={\"text\": texts[i]})\n",
    "    for i in range(len(texts))\n",
    "]\n",
    "client.upsert(collection_name=collection_name, points=points)"
   ]
  },
  {
   "cell_type": "code",
   "execution_count": 5,
   "id": "34bde3b9",
   "metadata": {},
   "outputs": [
    {
     "name": "stdout",
     "output_type": "stream",
     "text": [
      "{'text': 'Machine learning enables computers to learn from data.'}\n",
      "{'text': 'Vector databases store high-dimensional embeddings efficiently.'}\n",
      "{'text': 'Qdrant makes it easy to perform semantic search.'}\n"
     ]
    }
   ],
   "source": [
    "# Verify\n",
    "result = client.scroll(collection_name=collection_name, limit=3)\n",
    "for point in result[0]:\n",
    "    print(point.payload)"
   ]
  },
  {
   "cell_type": "code",
   "execution_count": null,
   "id": "412f000c",
   "metadata": {},
   "outputs": [],
   "source": []
  }
 ],
 "metadata": {
  "kernelspec": {
   "display_name": "rag_dev",
   "language": "python",
   "name": "python3"
  },
  "language_info": {
   "codemirror_mode": {
    "name": "ipython",
    "version": 3
   },
   "file_extension": ".py",
   "mimetype": "text/x-python",
   "name": "python",
   "nbconvert_exporter": "python",
   "pygments_lexer": "ipython3",
   "version": "3.10.19"
  }
 },
 "nbformat": 4,
 "nbformat_minor": 5
}
